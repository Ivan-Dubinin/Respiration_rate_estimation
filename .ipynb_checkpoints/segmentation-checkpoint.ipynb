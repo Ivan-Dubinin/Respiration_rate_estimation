{
 "cells": [
  {
   "cell_type": "code",
   "execution_count": 1,
   "id": "ea38e43e-712d-48bc-8f43-bef7100e01c3",
   "metadata": {},
   "outputs": [
    {
     "name": "stdout",
     "output_type": "stream",
     "text": [
      "Downloading from https://www.kaggle.com/api/v1/datasets/download/gennadyshutkov/segmentation?dataset_version_number=1...\n"
     ]
    },
    {
     "name": "stderr",
     "output_type": "stream",
     "text": [
      "100%|████████████████████████████████████████████████████████████████████████████████████████████████████████████████████████████████████████████████████████████████████████████████████████████████████████████████████████████████████████████████████████████████████████████████████| 192M/192M [00:07<00:00, 28.2MB/s]"
     ]
    },
    {
     "name": "stdout",
     "output_type": "stream",
     "text": [
      "Extracting files...\n"
     ]
    },
    {
     "name": "stderr",
     "output_type": "stream",
     "text": [
      "\n"
     ]
    },
    {
     "name": "stdout",
     "output_type": "stream",
     "text": [
      "Path to dataset files: /Users/gennady/.cache/kagglehub/datasets/gennadyshutkov/segmentation/versions/1\n"
     ]
    }
   ],
   "source": [
    "# We are going to use dataset of segmented animals\n",
    "import kagglehub\n",
    "\n",
    "# The following code will only execute\n",
    "# successfully when compression is complete\n",
    "\n",
    "import kagglehub\n",
    "\n",
    "PATH = \"gennadyshutkov/segmentation\" # YOUR PATH TO KAGGLE DATASET HERE\n",
    "# Download latest version\n",
    "path = kagglehub.dataset_download(\"gennadyshutkov/segmentation\")\n",
    "\n",
    "print(\"Path to dataset files:\", path)"
   ]
  },
  {
   "cell_type": "code",
   "execution_count": 4,
   "id": "20155e2e-7712-48df-a039-122d1def6829",
   "metadata": {},
   "outputs": [
    {
     "name": "stdout",
     "output_type": "stream",
     "text": [
      "Files and Folders in Dataset Directory: ['train', 'val']\n"
     ]
    }
   ],
   "source": [
    "import os\n",
    "\n",
    "# Check directories in the dataset \n",
    "print(\"Files and Folders in Dataset Directory:\", os.listdir(path))"
   ]
  },
  {
   "cell_type": "code",
   "execution_count": 5,
   "id": "00641079-e00a-43a9-94bf-f56adebda228",
   "metadata": {},
   "outputs": [
    {
     "ename": "NameError",
     "evalue": "name 'folders' is not defined",
     "output_type": "error",
     "traceback": [
      "\u001b[0;31m---------------------------------------------------------------------------\u001b[0m",
      "\u001b[0;31mNameError\u001b[0m                                 Traceback (most recent call last)",
      "Cell \u001b[0;32mIn[5], line 3\u001b[0m\n\u001b[1;32m      1\u001b[0m \u001b[38;5;66;03m# maybe layter we will use single dirrectory and split on train and val in the runtime\u001b[39;00m\n\u001b[0;32m----> 3\u001b[0m \u001b[38;5;28;01mif\u001b[39;00m \u001b[38;5;28mset\u001b[39m(\u001b[43mfolders\u001b[49m) \u001b[38;5;241m==\u001b[39m ste([\u001b[38;5;124m'\u001b[39m\u001b[38;5;124mtrain\u001b[39m\u001b[38;5;124m'\u001b[39m, \u001b[38;5;124m'\u001b[39m\u001b[38;5;124mval\u001b[39m\u001b[38;5;124m'\u001b[39m]):\n\u001b[1;32m      4\u001b[0m     tr_img_dir, tr_mask_dir \u001b[38;5;241m=\u001b[39m \u001b[38;5;124mf\u001b[39m\u001b[38;5;124m\"\u001b[39m\u001b[38;5;132;01m{\u001b[39;00mpath\u001b[38;5;132;01m}\u001b[39;00m\u001b[38;5;124m/train/images\u001b[39m\u001b[38;5;124m\"\u001b[39m, \u001b[38;5;124mf\u001b[39m\u001b[38;5;124m\"\u001b[39m\u001b[38;5;132;01m{\u001b[39;00mdataset_path\u001b[38;5;132;01m}\u001b[39;00m\u001b[38;5;124m/train/masks\u001b[39m\u001b[38;5;124m\"\u001b[39m\n\u001b[1;32m      5\u001b[0m     val_img_dir, val_mask_dir \u001b[38;5;241m=\u001b[39m \u001b[38;5;124mf\u001b[39m\u001b[38;5;124m\"\u001b[39m\u001b[38;5;132;01m{\u001b[39;00mpath\u001b[38;5;132;01m}\u001b[39;00m\u001b[38;5;124m/val/images\u001b[39m\u001b[38;5;124m\"\u001b[39m, \u001b[38;5;124mf\u001b[39m\u001b[38;5;124m\"\u001b[39m\u001b[38;5;132;01m{\u001b[39;00mdataset_path\u001b[38;5;132;01m}\u001b[39;00m\u001b[38;5;124m/val/masks\u001b[39m\u001b[38;5;124m\"\u001b[39m\n",
      "\u001b[0;31mNameError\u001b[0m: name 'folders' is not defined"
     ]
    }
   ],
   "source": [
    "# maybe layter we will use single dirrectory and split on train and val in the runtime\n",
    "\n",
    "if set(folders) == ste(['train', 'val']):\n",
    "    tr_img_dir, tr_mask_dir = f\"{path}/train/images\", f\"{path}/train/masks\"\n",
    "    val_img_dir, val_mask_dir = f\"{path}/val/images\", f\"{dataset_path}/val/masks\"\n",
    "else:\n",
    "    raise FileNotFoundError(\"Dataset is incorrect\")"
   ]
  }
 ],
 "metadata": {
  "kernelspec": {
   "display_name": "Python 3 (ipykernel)",
   "language": "python",
   "name": "python3"
  },
  "language_info": {
   "codemirror_mode": {
    "name": "ipython",
    "version": 3
   },
   "file_extension": ".py",
   "mimetype": "text/x-python",
   "name": "python",
   "nbconvert_exporter": "python",
   "pygments_lexer": "ipython3",
   "version": "3.10.13"
  }
 },
 "nbformat": 4,
 "nbformat_minor": 5
}
