{
 "cells": [
  {
   "cell_type": "code",
   "execution_count": null,
   "id": "ea38e43e-712d-48bc-8f43-bef7100e01c3",
   "metadata": {},
   "outputs": [],
   "source": [
    "# We are going to use dataset of segmented animals\n",
    "import kagglehub\n",
    "\n",
    "# The following code will only execute\n",
    "# successfully when compression is complete\n",
    "\n",
    "import kagglehub\n",
    "\n",
    "PATH = \"gennadyshutkov/segmentation\" # YOUR PATH TO KAGGLE DATASET HERE\n",
    "# Download latest version\n",
    "path = kagglehub.dataset_download(\"gennadyshutkov/segmentation\")\n",
    "\n",
    "print(\"Path to dataset files:\", path)"
   ]
  }
 ],
 "metadata": {
  "kernelspec": {
   "display_name": "Python 3 (ipykernel)",
   "language": "python",
   "name": "python3"
  },
  "language_info": {
   "codemirror_mode": {
    "name": "ipython",
    "version": 3
   },
   "file_extension": ".py",
   "mimetype": "text/x-python",
   "name": "python",
   "nbconvert_exporter": "python",
   "pygments_lexer": "ipython3",
   "version": "3.10.13"
  }
 },
 "nbformat": 4,
 "nbformat_minor": 5
}
